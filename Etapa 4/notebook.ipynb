{
 "cells": [
  {
   "cell_type": "code",
   "execution_count": 7,
   "metadata": {},
   "outputs": [],
   "source": [
    "from pyspark.sql import SparkSession\n",
    "import pyspark.sql.functions as F\n",
    "\n",
    "SPARK_HOST = 'local[*]'\n",
    "\n",
    "spark: SparkSession = (\n",
    "    SparkSession\n",
    "    .builder\n",
    "    .config(\"spark.sql.warehouse.dir\", \"./tmp\")\n",
    "    .master(SPARK_HOST)\n",
    "    .getOrCreate()\n",
    ")"
   ]
  },
  {
   "cell_type": "code",
   "execution_count": null,
   "metadata": {},
   "outputs": [
    {
     "name": "stdout",
     "output_type": "stream",
     "text": [
      "Row(id=1, letra='a', upper_name='A')\n",
      "Row(id=2, letra='s', upper_name='S')\n",
      "Row(id=3, letra='c', upper_name='C')\n",
      "Row(id=4, letra='v', upper_name='V')\n"
     ]
    }
   ],
   "source": [
    "df = spark.createDataFrame(\n",
    "    [(1, \"a\"),\n",
    " (2, \"s\"),\n",
    " (3, \"c\"),\n",
    " (4, \"v\")],[\"id\",\"letra\"]\n",
    ")\n",
    "\n",
    "df = df.withColumn('upper_name', F.upper(F.col('letra')))\n",
    "\n",
    "\n",
    "\n",
    "\n"
   ]
  },
  {
   "cell_type": "code",
   "execution_count": 19,
   "metadata": {},
   "outputs": [],
   "source": [
    "df = spark.read.csv('vendas.csv', header=True, inferSchema=True, sep=';')\n",
    "\n",
    "df = df.groupBy(*['produto', 'quantidade'])\n",
    "\n",
    "#df.show()"
   ]
  }
 ],
 "metadata": {
  "kernelspec": {
   "display_name": ".venv",
   "language": "python",
   "name": "python3"
  },
  "language_info": {
   "codemirror_mode": {
    "name": "ipython",
    "version": 3
   },
   "file_extension": ".py",
   "mimetype": "text/x-python",
   "name": "python",
   "nbconvert_exporter": "python",
   "pygments_lexer": "ipython3",
   "version": "3.11.0"
  }
 },
 "nbformat": 4,
 "nbformat_minor": 2
}

{
 "cells": [
  {
   "cell_type": "code",
   "execution_count": 10,
   "metadata": {},
   "outputs": [],
   "source": [
    "from pyspark.sql import SparkSession\n",
    "from pyspark.sql.functions import col"
   ]
  },
  {
   "cell_type": "code",
   "execution_count": 48,
   "metadata": {},
   "outputs": [
    {
     "name": "stdout",
     "output_type": "stream",
     "text": [
      "+----------+-----+-----+--------------+\n",
      "|id_cliente| nome|idade|        cidade|\n",
      "+----------+-----+-----+--------------+\n",
      "|         1| João|   35|     São Paulo|\n",
      "|         2|Maria|   25|Rio de Janeiro|\n",
      "|         3| José|   40|      Curitiba|\n",
      "|         4|  Ana|   28|     São Paulo|\n",
      "|         5|Paulo|   50|Belo Horizonte|\n",
      "+----------+-----+-----+--------------+\n",
      "\n"
     ]
    }
   ],
   "source": [
    "spark = SparkSession.builder \\\n",
    "    .appName(\"ExemploSpark\") \\\n",
    "    .config(\"spark.sql.files.encoding\", \"UTF-8\") \\\n",
    "    .getOrCreate()\n",
    "\n",
    "df = spark.read.csv(\"clientes.csv\", header=True, inferSchema=True, sep=\",\")\n",
    "\n",
    "\n",
    "df.show()\n",
    "\n",
    "\n"
   ]
  },
  {
   "cell_type": "code",
   "execution_count": 49,
   "metadata": {},
   "outputs": [
    {
     "name": "stdout",
     "output_type": "stream",
     "text": [
      "+-----+-----+--------------+\n",
      "| nome|idade|        cidade|\n",
      "+-----+-----+--------------+\n",
      "| João|   35|     São Paulo|\n",
      "|Maria|   25|Rio de Janeiro|\n",
      "| José|   40|      Curitiba|\n",
      "|  Ana|   28|     São Paulo|\n",
      "|Paulo|   50|Belo Horizonte|\n",
      "+-----+-----+--------------+\n",
      "\n"
     ]
    }
   ],
   "source": [
    "df_selecionado = df.select(\"nome\", \"idade\", \"cidade\")\n",
    "df_selecionado.show()"
   ]
  },
  {
   "cell_type": "code",
   "execution_count": 50,
   "metadata": {},
   "outputs": [
    {
     "name": "stdout",
     "output_type": "stream",
     "text": [
      "+----------+-----+-----+--------------+\n",
      "|id_cliente| nome|idade|        cidade|\n",
      "+----------+-----+-----+--------------+\n",
      "|         1| João|   35|     São Paulo|\n",
      "|         3| José|   40|      Curitiba|\n",
      "|         5|Paulo|   50|Belo Horizonte|\n",
      "+----------+-----+-----+--------------+\n",
      "\n"
     ]
    }
   ],
   "source": [
    "df_filtrado = df.filter(col(\"idade\") > 30)\n",
    "df_filtrado.show()"
   ]
  },
  {
   "cell_type": "code",
   "execution_count": 51,
   "metadata": {},
   "outputs": [
    {
     "data": {
      "text/plain": [
       "2"
      ]
     },
     "execution_count": 51,
     "metadata": {},
     "output_type": "execute_result"
    }
   ],
   "source": [
    "count_sp = df.filter(col(\"cidade\") == \"São Paulo\").count()\n",
    "count_sp"
   ]
  }
 ],
 "metadata": {
  "kernelspec": {
   "display_name": ".venv",
   "language": "python",
   "name": "python3"
  },
  "language_info": {
   "codemirror_mode": {
    "name": "ipython",
    "version": 3
   },
   "file_extension": ".py",
   "mimetype": "text/x-python",
   "name": "python",
   "nbconvert_exporter": "python",
   "pygments_lexer": "ipython3",
   "version": "3.11.0"
  }
 },
 "nbformat": 4,
 "nbformat_minor": 2
}

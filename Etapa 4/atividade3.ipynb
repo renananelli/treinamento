{
 "cells": [
  {
   "cell_type": "code",
   "execution_count": null,
   "id": "modulo-1",
   "metadata": {},
   "outputs": [
    {
     "name": "stdout",
     "output_type": "stream",
     "text": [
      "root\n",
      " |-- id_transacao: integer (nullable = true)\n",
      " |-- id_cliente: integer (nullable = true)\n",
      " |-- valor: double (nullable = true)\n",
      " |-- data_transacao: date (nullable = true)\n",
      " |-- categoria: string (nullable = true)\n",
      "\n",
      "root\n",
      " |-- id_cliente: integer (nullable = true)\n",
      " |-- nome: string (nullable = true)\n",
      " |-- idade: integer (nullable = true)\n",
      " |-- cidade: string (nullable = true)\n",
      "\n",
      "+------------+----------+-----+--------------+-----------+\n",
      "|id_transacao|id_cliente|valor|data_transacao|  categoria|\n",
      "+------------+----------+-----+--------------+-----------+\n",
      "|           1|         1|100.0|    2023-11-01|    Compras|\n",
      "|           2|         2|200.0|    2023-11-02|Alimentação|\n",
      "|           3|         3|150.0|    2023-11-03|    Compras|\n",
      "|           4|         4|300.0|    2023-11-01|     Viagem|\n",
      "|           5|         5| 50.0|    2023-11-04|Alimentação|\n",
      "+------------+----------+-----+--------------+-----------+\n",
      "\n",
      "+----------+-----+-----+--------------+\n",
      "|id_cliente| nome|idade|        cidade|\n",
      "+----------+-----+-----+--------------+\n",
      "|         1| João|   35|     São Paulo|\n",
      "|         2|Maria|   25|Rio de Janeiro|\n",
      "|         3| José|   40|      Curitiba|\n",
      "|         4|  Ana|   28|     São Paulo|\n",
      "|         5|Paulo|   50|Belo Horizonte|\n",
      "+----------+-----+-----+--------------+\n",
      "\n"
     ]
    }
   ],
   "source": [
    "from pyspark.sql import SparkSession\n",
    "\n",
    "spark = SparkSession.builder.appName('TransacoesClientes').getOrCreate()\n",
    "\n",
    "transacoes = spark.read.csv('transacoes.csv', header=True, inferSchema=True)\n",
    "clientes = spark.read.csv('clientes.csv', header=True, inferSchema=True)\n",
    "\n",
    "transacoes.printSchema()\n",
    "clientes.printSchema()\n",
    "\n",
    "transacoes.show(5)\n",
    "clientes.show(5)"
   ]
  },
  {
   "cell_type": "code",
   "execution_count": null,
   "id": "modulo-2",
   "metadata": {},
   "outputs": [
    {
     "name": "stdout",
     "output_type": "stream",
     "text": [
      "+----------+------------+-----+--------------+-----------+-----+-----+--------------+\n",
      "|id_cliente|id_transacao|valor|data_transacao|  categoria| nome|idade|        cidade|\n",
      "+----------+------------+-----+--------------+-----------+-----+-----+--------------+\n",
      "|         1|           1|100.0|    2023-11-01|    Compras| João|   35|     São Paulo|\n",
      "|         2|           2|200.0|    2023-11-02|Alimentação|Maria|   25|Rio de Janeiro|\n",
      "|         3|           3|150.0|    2023-11-03|    Compras| José|   40|      Curitiba|\n",
      "|         4|           4|300.0|    2023-11-01|     Viagem|  Ana|   28|     São Paulo|\n",
      "|         5|           5| 50.0|    2023-11-04|Alimentação|Paulo|   50|Belo Horizonte|\n",
      "+----------+------------+-----+--------------+-----------+-----+-----+--------------+\n",
      "\n"
     ]
    }
   ],
   "source": [
    "df_merged = transacoes.join(clientes, on='id_cliente', how='inner')\n",
    "\n",
    "df_merged.show(5)"
   ]
  },
  {
   "cell_type": "code",
   "execution_count": null,
   "id": "modulo-3",
   "metadata": {},
   "outputs": [
    {
     "name": "stdout",
     "output_type": "stream",
     "text": [
      "+----------+----------------+\n",
      "|id_cliente|total_transacoes|\n",
      "+----------+----------------+\n",
      "|         1|           100.0|\n",
      "|         3|           150.0|\n",
      "|         5|            50.0|\n",
      "|         4|           300.0|\n",
      "|         2|           200.0|\n",
      "+----------+----------------+\n",
      "\n"
     ]
    }
   ],
   "source": [
    "from pyspark.sql.functions import col, sum as _sum\n",
    "\n",
    "df_total = df_merged.groupBy('id_cliente').agg(_sum('valor').alias('total_transacoes'))\n",
    "df_total.show(5)"
   ]
  },
  {
   "cell_type": "code",
   "execution_count": null,
   "id": "modulo-4",
   "metadata": {},
   "outputs": [],
   "source": [
    "cliente_top = df_total.orderBy(col('total_transacoes').desc()).limit(1)\n",
    "\n",
    "cliente_top.show()"
   ]
  }
 ],
 "metadata": {
  "kernelspec": {
   "display_name": ".venv",
   "language": "python",
   "name": "python3"
  },
  "language_info": {
   "codemirror_mode": {
    "name": "ipython",
    "version": 3
   },
   "file_extension": ".py",
   "mimetype": "text/x-python",
   "name": "python",
   "nbconvert_exporter": "python",
   "pygments_lexer": "ipython3",
   "version": "3.11.0"
  }
 },
 "nbformat": 4,
 "nbformat_minor": 5
}

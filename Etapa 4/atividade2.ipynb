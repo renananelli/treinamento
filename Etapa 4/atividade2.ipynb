{
 "cells": [
  {
   "cell_type": "code",
   "execution_count": null,
   "id": "modulo-1",
   "metadata": {},
   "outputs": [
    {
     "name": "stdout",
     "output_type": "stream",
     "text": [
      "root\n",
      " |-- id_transacao: integer (nullable = true)\n",
      " |-- id_cliente: integer (nullable = true)\n",
      " |-- valor: double (nullable = true)\n",
      " |-- data_transacao: date (nullable = true)\n",
      " |-- categoria: string (nullable = true)\n",
      "\n",
      "+------------+----------+-----+--------------+-----------+\n",
      "|id_transacao|id_cliente|valor|data_transacao|  categoria|\n",
      "+------------+----------+-----+--------------+-----------+\n",
      "|           1|         1|100.0|    2023-11-01|    Compras|\n",
      "|           2|         2|200.0|    2023-11-02|Alimentação|\n",
      "|           3|         3|150.0|    2023-11-03|    Compras|\n",
      "|           4|         4|300.0|    2023-11-01|     Viagem|\n",
      "|           5|         5| 50.0|    2023-11-04|Alimentação|\n",
      "+------------+----------+-----+--------------+-----------+\n",
      "\n"
     ]
    }
   ],
   "source": [
    "from pyspark.sql import SparkSession\n",
    "\n",
    "spark = SparkSession.builder.appName('Transacoes').getOrCreate()\n",
    "transacoes = spark.read.csv('transacoes.csv', header=True, inferSchema=True)\n",
    "\n",
    "transacoes.printSchema()\n",
    "transacoes.show(5)"
   ]
  },
  {
   "cell_type": "code",
   "execution_count": null,
   "id": "modulo-2",
   "metadata": {},
   "outputs": [
    {
     "name": "stdout",
     "output_type": "stream",
     "text": [
      "+------------+----------+-----+--------------+-----------+-------------+\n",
      "|id_transacao|id_cliente|valor|data_transacao|  categoria|ano_transacao|\n",
      "+------------+----------+-----+--------------+-----------+-------------+\n",
      "|           1|         1|100.0|    2023-11-01|    Compras|         2023|\n",
      "|           2|         2|200.0|    2023-11-02|Alimentação|         2023|\n",
      "|           3|         3|150.0|    2023-11-03|    Compras|         2023|\n",
      "|           4|         4|300.0|    2023-11-01|     Viagem|         2023|\n",
      "|           5|         5| 50.0|    2023-11-04|Alimentação|         2023|\n",
      "+------------+----------+-----+--------------+-----------+-------------+\n",
      "\n"
     ]
    }
   ],
   "source": [
    "from pyspark.sql.functions import year, col\n",
    "\n",
    "transacoes = transacoes.withColumn('ano_transacao', year(col('data_transacao')))\n",
    "transacoes.show(5)"
   ]
  },
  {
   "cell_type": "code",
   "execution_count": null,
   "id": "modulo-3",
   "metadata": {},
   "outputs": [
    {
     "name": "stdout",
     "output_type": "stream",
     "text": [
      "+-----------+-----------+-----------+\n",
      "|  categoria|valor_total|valor_medio|\n",
      "+-----------+-----------+-----------+\n",
      "|     Viagem|      300.0|      300.0|\n",
      "|    Compras|      250.0|      125.0|\n",
      "|Alimentação|      250.0|      125.0|\n",
      "+-----------+-----------+-----------+\n",
      "\n"
     ]
    }
   ],
   "source": [
    "from pyspark.sql.functions import sum as _sum, avg\n",
    "\n",
    "agrupado = transacoes.groupBy('categoria').agg(\n",
    "    _sum('valor').alias('valor_total'),\n",
    "    avg('valor').alias('valor_medio')\n",
    ")\n",
    "agrupado.show(5)"
   ]
  },
  {
   "cell_type": "code",
   "execution_count": null,
   "id": "modulo-4",
   "metadata": {},
   "outputs": [
    {
     "name": "stdout",
     "output_type": "stream",
     "text": [
      "+-----------+-----------+-----------+\n",
      "|  categoria|valor_total|valor_medio|\n",
      "+-----------+-----------+-----------+\n",
      "|     Viagem|      300.0|      300.0|\n",
      "|    Compras|      250.0|      125.0|\n",
      "|Alimentação|      250.0|      125.0|\n",
      "+-----------+-----------+-----------+\n",
      "\n"
     ]
    }
   ],
   "source": [
    "agrupado = agrupado.orderBy(col('valor_total').desc())\n",
    "agrupado.show(5)"
   ]
  }
 ],
 "metadata": {
  "kernelspec": {
   "display_name": ".venv",
   "language": "python",
   "name": "python3"
  },
  "language_info": {
   "codemirror_mode": {
    "name": "ipython",
    "version": 3
   },
   "file_extension": ".py",
   "mimetype": "text/x-python",
   "name": "python",
   "nbconvert_exporter": "python",
   "pygments_lexer": "ipython3",
   "version": "3.11.0"
  }
 },
 "nbformat": 4,
 "nbformat_minor": 5
}
